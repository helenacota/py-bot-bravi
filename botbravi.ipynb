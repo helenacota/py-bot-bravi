{
 "cells": [
  {
   "cell_type": "code",
   "execution_count": null,
   "id": "6230382a-743d-4d9b-a90f-b99f28350bfa",
   "metadata": {
    "collapsed": true,
    "jupyter": {
     "outputs_hidden": true,
     "source_hidden": true
    },
    "tags": []
   },
   "outputs": [
    {
     "name": "stderr",
     "output_type": "stream",
     "text": [
      "C:\\Users\\Helen\\AppData\\Local\\Temp\\ipykernel_1268\\3122618105.py:25: DeprecationWarning: executable_path has been deprecated, please pass in a Service object\n",
      "  driver = webdriver.Firefox(executable_path=\"C:\\\\Helena\\\\geckodriver\\\\geckodriver.exe\")\n"
     ]
    }
   ],
   "source": [
    "# Iniciar drive\n",
    "import pandas as pd\n",
    "import time\n",
    "import datetime\n",
    "import boto3\n",
    "import random\n",
    "import os\n",
    "from urllib.request import urlretrieve\n",
    "\n",
    "from selenium import webdriver\n",
    "from selenium.webdriver.firefox.options import Options\n",
    "from selenium.webdriver.common.desired_capabilities import DesiredCapabilities\n",
    "from selenium.webdriver.common.by import By\n",
    "\n",
    "#binary = r'C:\\Users\\pedro.costa\\AppData\\Local\\Mozilla Firefox\\firefox.exe'\n",
    "binary = r'C:\\Program Files\\Mozilla Firefox\\firefox.exe'\n",
    "\n",
    "#options = Options()\n",
    "#options.set_headless(headless=False)\n",
    "#options.binary = binary\n",
    "#cap = DesiredCapabilities.FIREFOX\n",
    "#cap[\"marionette\"] = True #optional\n",
    "#driver = webdriver.Firefox(firefox_options=options, capabilities=cap, executable_path=\"C:\\\\Dropbox (Indie Capital)\\\\Sistemas\\\\Files\\\\CVM\\\\Informe diario\\\\geckodriver.exe\")\n",
    "\n",
    "driver = webdriver.Firefox(executable_path=\"C:\\\\Helena\\\\geckodriver\\\\geckodriver.exe\")\n",
    "url = \"http://bravi.tv/associados/\"\n",
    "driver.get(url)\n",
    "\n",
    "#driver.add_cookie({\"name\":\"cookiesPreferencesNotLogged\",\"domain\":\".mercadolivre.com.br\",\"value\":\"%7B%22categories%22%3A%7B%22advertising%22%3Atrue%7D%7D\"})\n",
    "#driver.add_cookie({\"name\":\"cp\",\"domain\":\".mercadolivre.com.br\",\"value\":usar_cep + \"%7C1649687491347\"})\n",
    "#driver.add_cookie({\"name\":\"modal-configuration\",\"domain\":\".mercadolivre.com.br\",\"value\":'{\"full_modal_fs\":{\"view_cnt\":2,\"close_cnt\":2,\"view_time\":1649689874,\"close_time\":1649689883}}'})\n",
    "#driver.get(\"https://lista.mercadolivre.com.br/acessorios-veiculos/caminhoes/outros/\")"
   ]
  },
  {
   "cell_type": "code",
   "execution_count": 23,
   "id": "1c6789f0-d032-4c4d-8b03-14e7e8a10023",
   "metadata": {
    "tags": []
   },
   "outputs": [],
   "source": [
    "def exeClick(ndiv):\n",
    "    path = '/html/body/div[2]/div[2]/div[1]/div/div['+ str(ndiv) +']/a/div/img'\n",
    "    driver.find_element(By.XPATH, path).click()\n",
    "    time.sleep(2)\n",
    "\n",
    "def getInfo():\n",
    "    path = '/html/body/div[2]/div[2]/div[1]/div/div[4]/div/div/div[2]/div[1]'\n",
    "    info = driver.find_element(By.XPATH, path).text\n",
    "    return info\n",
    "\n",
    "def getSite():\n",
    "    path = '/html/body/div[2]/div[2]/div[1]/div/div[4]/div/div/div[2]/div[2]/a[1]'\n",
    "    site = driver.find_element(By.XPATH, path).get_attribute('href')\n",
    "    return site\n",
    "\n",
    "def getEmail():\n",
    "    path = '/html/body/div[2]/div[2]/div[1]/div/div[4]/div/div/div[2]/div[2]/a[2]'\n",
    "    email = driver.find_element(By.XPATH, path).get_attribute('href')\n",
    "    return email\n",
    "\n",
    "def sPlanilha(info,site,email):\n",
    "    with open('dadosBravi.csv', 'a') as dados:\n",
    "        dados.write(info+\",\"+site+\",\"+email)\n",
    "    "
   ]
  },
  {
   "cell_type": "code",
   "execution_count": 25,
   "id": "8b7b29f3-1b93-4be6-9fc6-6d5612fe9255",
   "metadata": {
    "collapsed": true,
    "jupyter": {
     "outputs_hidden": true
    },
    "tags": []
   },
   "outputs": [
    {
     "name": "stdout",
     "output_type": "stream",
     "text": [
      "nDiv: 10\n",
      "site: https://www.3brasis.com.br/\n",
      "email: mailto:mauricio@3brasis.com.br\n",
      "info: Rua da Alfândega 35 - Loja 401 – Tech Hub Paço Alfândega - Bairro do Recife\n",
      "CEP: 50.030-030\n",
      "Recife / PE\n",
      "(81) 99585-3883\n",
      "Contato: Maurício Corrêa\n",
      "\n",
      "nDiv: 11\n",
      "site: http://3tabelafilmes.com/\n",
      "email: mailto:izabellafaya@gmail.com\n",
      "info: Rua Senador Euzebio, 6 ap 4\n",
      "CEP: 22.250-080\n",
      "Rio de Janeiro / RJ\n",
      "Contato: Izabella Faya\n",
      "(21) 3141 1405\n",
      "\n",
      "nDiv: 12\n",
      "site: http://www.34filmes.com.br/\n",
      "email: mailto:34filmes@gmail.com\n",
      "info: Quadra 701, Conjunto E, Bloco 01 - sala 209\n",
      "Edifício Palácio do Rádio I \n",
      "CEP: 70.340-000 \n",
      "Brasília/DF\n",
      "Contato: (61) 9 8102-6543\n",
      "\n"
     ]
    }
   ],
   "source": [
    "sPlanilha(\"info\",\"site\",\"email\")\n",
    "for ndiv in range(10,13):\n",
    "    exeClick(ndiv)\n",
    "    info = getInfo()\n",
    "    site = getSite()\n",
    "    email = getEmail()\n",
    "    \n",
    "    print(\"nDiv: \"+str(ndiv))\n",
    "    print(\"site: \"+site)\n",
    "    print(\"email: \"+email)\n",
    "    print(\"info: \"+info)\n",
    "    print(\"\")\n",
    "    \n",
    "    sPlanilha(info,site,email)"
   ]
  },
  {
   "cell_type": "code",
   "execution_count": 14,
   "id": "3cdaeec2-2eda-405c-8aff-90b333110661",
   "metadata": {
    "jupyter": {
     "source_hidden": true
    },
    "tags": []
   },
   "outputs": [],
   "source": [
    "path = '/html/body/div[2]/div[2]/div[1]/div/div[9]/a/div/img'\n",
    "#info = driver.find_element(By.XPATH, path).get_attribute('src')\n",
    "driver.find_element(By.XPATH, path).click()\n",
    "time.sleep(2)\n",
    "\n",
    "path = '/html/body/div[2]/div[2]/div[1]/div/div[4]/div/div/div[2]/div[1]'\n",
    "info = driver.find_element(By.XPATH, path).text\n",
    "\n",
    "path = '/html/body/div[2]/div[2]/div[1]/div/div[4]/div/div/div[2]/div[2]/a[1]'\n",
    "site = driver.find_element(By.XPATH, path).get_attribute('href')\n",
    "\n",
    "path = '/html/body/div[2]/div[2]/div[1]/div/div[4]/div/div/div[2]/div[2]/a[2]'\n",
    "email = driver.find_element(By.XPATH, path).get_attribute('href')\n",
    "\n",
    "print(\"site: \"+site)\n",
    "print(\"email: \"+email)\n",
    "print(\"info: \"+info)"
   ]
  },
  {
   "cell_type": "code",
   "execution_count": null,
   "id": "14364b12-3d22-45de-949e-08defdb5227d",
   "metadata": {
    "collapsed": true,
    "jupyter": {
     "outputs_hidden": true,
     "source_hidden": true
    },
    "tags": []
   },
   "outputs": [
    {
     "name": "stdout",
     "output_type": "stream",
     "text": [
      "['João Afonso, 40 - Humaitá', 'CEP: 22.261-040', 'Rio de Janeiro / RJ', 'Contato: (21) 2225-7598']\n",
      "--------\n",
      "João Afonso, 40 - Humaitá\n",
      "CEP: 22.261-040\n",
      "Rio de Janeiro / RJ\n",
      "Contato: (21) 2225-7598\n",
      "========\n",
      "endereco: João Afonso, 40 - Humaitá CEP: 22.261-040\n",
      "cep: e Janeiro / RJ\n",
      "cidade: Contato: (21) 2225-7598\n",
      "contato: \n",
      "outro: \n"
     ]
    }
   ],
   "source": [
    "info = getInfo()\n",
    "quebrado = info.split(\"\\n\")\n",
    "print(quebrado)\n",
    "\n",
    "endereco = ''\n",
    "cep = ''\n",
    "cidade = ''\n",
    "contato = ''\n",
    "outro = ''\n",
    "\n",
    "print ('--------')\n",
    "for x in range(len(quebrado)):\n",
    "    print(quebrado[x])\n",
    "    \n",
    "    match x:\n",
    "        case 0:\n",
    "            endereco = quebrado[x]\n",
    "        case 1:\n",
    "            endereco = endereco + ' ' + quebrado[x]\n",
    "        case 2:\n",
    "            cep = quebrado[x][5:len(quebrado[x])]\n",
    "        case 3:\n",
    "            cidade = quebrado[x]\n",
    "        case 4:\n",
    "            contato = quebrado[x][9:len(quebrado[x])]\n",
    "        case default:i\n",
    "            outro = \" caiu no outro\"\n",
    "    \n",
    "print(\"========\")\n",
    "print(\"endereco: \" + endereco)\n",
    "print(\"cep: \" + cep)\n",
    "print(\"cidade: \" + cidade)\n",
    "print(\"contato: \" + contato)\n",
    "print(\"outro: \" + outro)\n"
   ]
  },
  {
   "cell_type": "code",
   "execution_count": 67,
   "id": "a2e43166-2912-40ea-b54a-3b34d9b95783",
   "metadata": {
    "tags": []
   },
   "outputs": [
    {
     "name": "stdout",
     "output_type": "stream",
     "text": [
      "['Rua Ministro Artur Ribeiro, 43, casa - Jardim Botânico', 'CEP: 22.461-230', 'Rio de Janeiro / RJ', 'Contato: Betse de Paula', '(21) 2512 9543']\n",
      "========\n",
      "endereco: \n",
      "cep: \n",
      "cidade: Contato: Betse de Paula\n",
      "contato: \n",
      "outro: \n"
     ]
    }
   ],
   "source": [
    "info = getInfo()\n",
    "quebrado = info.split(\"\\n\")\n",
    "print(quebrado)\n",
    "\n",
    "endereco = ''\n",
    "cep = ''\n",
    "cidade = ''\n",
    "contato = ''\n",
    "outro = ''\n",
    "\n",
    "if \"CEP\" in quebrado[2]:\n",
    "    match x:\n",
    "        case 0:\n",
    "            endereco = quebrado[x]\n",
    "        case 1:\n",
    "            endereco = endereco + ' ' + quebrado[x]\n",
    "        case 2:\n",
    "            cidade = quebrado[x]\n",
    "        case 3:\n",
    "            contato = quebrado[x][9:len(quebrado[x])]\n",
    "            \n",
    "else: \n",
    "      match x:\n",
    "            case 0:\n",
    "                endereco = quebrado[x]\n",
    "            case 1:\n",
    "                endereco = endereco + ' ' + quebrado[x]\n",
    "            case 2:\n",
    "                cep = quebrado[x][5:len(quebrado[x])]\n",
    "            case 3:\n",
    "                cidade = quebrado[x]\n",
    "            case 4:\n",
    "                contato = quebrado[x][9:len(quebrado[x])]\n",
    "    \n",
    "print(\"========\")\n",
    "print(\"endereco: \" + endereco)\n",
    "print(\"cep: \" + cep)\n",
    "print(\"cidade: \" + cidade)\n",
    "print(\"contato: \" + contato)\n",
    "print(\"outro: \" + outro)\n"
   ]
  }
 ],
 "metadata": {
  "kernelspec": {
   "display_name": "Python 3 (ipykernel)",
   "language": "python",
   "name": "python3"
  },
  "language_info": {
   "codemirror_mode": {
    "name": "ipython",
    "version": 3
   },
   "file_extension": ".py",
   "mimetype": "text/x-python",
   "name": "python",
   "nbconvert_exporter": "python",
   "pygments_lexer": "ipython3",
   "version": "3.10.4"
  }
 },
 "nbformat": 4,
 "nbformat_minor": 5
}
